{
 "cells": [
  {
   "cell_type": "code",
   "execution_count": 48,
   "id": "35d888b6-ac11-43ae-802f-3a2dc124ba4e",
   "metadata": {},
   "outputs": [],
   "source": [
    "import torch\n",
    "import torch.nn as nn\n",
    "import torch.optim as optim\n",
    "import torchvision.transforms as transforms\n",
    "from torch.utils.data import DataLoader, Dataset\n",
    "import pandas as pd\n",
    "import numpy as np\n",
    "import matplotlib.pyplot as plt"
   ]
  },
  {
   "cell_type": "code",
   "execution_count": 49,
   "id": "02e90348-3bec-40d8-bc54-1feee195ce2e",
   "metadata": {},
   "outputs": [],
   "source": [
    "# Load datas\n",
    "train_data = pd.read_csv('data/train.csv')\n",
    "test_data = pd.read_csv('data/test.csv')"
   ]
  },
  {
   "cell_type": "code",
   "execution_count": 50,
   "id": "ce6f83b1-5354-4514-a91f-4833ca991f7e",
   "metadata": {},
   "outputs": [
    {
     "data": {
      "image/png": "[encoded data removed]",
      "text/plain": [
       "<Figure size 640x480 with 1 Axes>"
      ]
     },
     "metadata": {},
     "output_type": "display_data"
    }
   ],
   "source": [
    "viewDigitIndex = 8\n",
    "plt.imshow(train_data.iloc[viewDigitIndex, 1:].values.reshape(28, 28), cmap='gray')\n",
    "plt.title(f\"Label: {train_data.iloc[viewDigitIndex, 0]}\")\n",
    "plt.show()"
   ]
  },
  {
   "cell_type": "code",
   "execution_count": 51,
   "id": "1623debf-7f4d-44b4-8a24-8f9236fc0027",
   "metadata": {},
   "outputs": [
    {
     "data": {
      "image/png": "[encoded data removed]",
      "text/plain": [
       "<Figure size 640x480 with 1 Axes>"
      ]
     },
     "metadata": {},
     "output_type": "display_data"
    }
   ],
   "source": [
    "# create a random matrix 28 X 28 \n",
    "image_data = np.random.rand(28, 28)\n",
    "# show it as image\n",
    "# while pass in one signle matrix and choose viridis will be a 'fake' color\n",
    "plt.imshow(image_data, cmap='viridis')\n",
    "plt.title(\"Random Image\")\n",
    "plt.show()"
   ]
  },
  {
   "cell_type": "code",
   "execution_count": 62,
   "id": "17bf66c7-cd15-4d9e-b74a-a8ee8e7873a7",
   "metadata": {},
   "outputs": [],
   "source": [
    "class DigitDataset(Dataset):\n",
    "    def __init__(self, data, transform=None, has_labels=True):\n",
    "        self.transform = transform\n",
    "        self.has_labels = has_labels\n",
    "        if has_labels:\n",
    "            # make labels \n",
    "            self.labels = data.iloc[:, 0].values\n",
    "            # -1 means to auto calculate [batch] values 28 x 28 even your data is more than 28 x 28 \n",
    "            self.images = data.iloc[:, 1:].values.reshape(-1, 28, 28).astype(np.float32)\n",
    "        else:\n",
    "            self.labels = None\n",
    "            self.images = data.values.reshape(-1, 28, 28).astype(np.float32)\n",
    "\n",
    "    def __len__(self):\n",
    "        return len(self.images)\n",
    "\n",
    "    def __getitem__(self, idx):\n",
    "        image = self.images[idx]\n",
    "        if self.transform:\n",
    "            image = self.transform(image)\n",
    "        if self.has_labels:\n",
    "            label = self.labels[idx]\n",
    "            return image, label\n",
    "        else:\n",
    "            return image \n",
    "\n",
    "# transform will be use in this example\n",
    "# \n",
    "transform = transforms.Compose([\n",
    "    # nomalize data ->data range to 0 - 1 | convert to pytorch type (for CUDA and graphic card compte)\n",
    "    transforms.ToTensor(),\n",
    "    # check notion for more detaul | in a nutshell this is convert data to N(0,1),  Z\n",
    "    transforms.Normalize((0.5,), (0.5,))\n",
    "])\n",
    "\n",
    "train_dataset = DigitDataset(train_data, transform=transform)\n",
    "train_loader = DataLoader(train_dataset, batch_size=64, shuffle=True)"
   ]
  },
  {
   "cell_type": "code",
   "execution_count": 53,
   "id": "a173dc4c-2eab-483b-aac9-be8a262b77ae",
   "metadata": {},
   "outputs": [],
   "source": [
    "#  this is a class define a simple CNN [Convolutional Neural Network]\n",
    "#  means class simpleNN is inhertence| extend from nn.Module\n",
    "class SimpleCNN(nn.Module):\n",
    "    # @override? father class _init_ function. \n",
    "    def __init__(self):\n",
    "        super(SimpleCNN, self).__init__()\n",
    "        # nn.Conv2d is write for picutre task specially\n",
    "        # prarms: 1) in_channels rgb or grey 1 || 3 | 2) out_channels Means current layer will have 32 outputs\n",
    "        # 3) kernel_size=3: 'window' how big of the size that windows is looking at a time? \n",
    "        # 4) padding \n",
    "        self.conv1 = nn.Conv2d(1, 32, kernel_size=3, padding=1)\n",
    "        self.conv2 = nn.Conv2d(32, 64, kernel_size=3, padding=1)\n",
    "        # \n",
    "        self.fc1 = nn.Linear(64*7*7, 128)\n",
    "        self.fc2 = nn.Linear(128, 10)\n",
    "        self.pool = nn.MaxPool2d(2, 2)\n",
    "        self.relu = nn.ReLU()\n",
    "\n",
    "    def forward(self, x):\n",
    "        x = self.pool(self.relu(self.conv1(x)))\n",
    "        x = self.pool(self.relu(self.conv2(x)))\n",
    "        x = x.view(-1, 64*7*7)\n",
    "        x = self.relu(self.fc1(x))\n",
    "        x = self.fc2(x)\n",
    "        return x\n",
    "\n",
    "model = SimpleCNN()"
   ]
  },
  {
   "cell_type": "code",
   "execution_count": 54,
   "id": "2f2a1c4e-df9b-47a0-ae26-7bd3abe2486e",
   "metadata": {},
   "outputs": [],
   "source": [
    "criterion = nn.CrossEntropyLoss()\n",
    "optimizer = optim.Adam(model.parameters(), lr=0.001)"
   ]
  },
  {
   "cell_type": "code",
   "execution_count": 55,
   "id": "37f92076-b699-44ab-901a-15a2533a4674",
   "metadata": {},
   "outputs": [
    {
     "name": "stdout",
     "output_type": "stream",
     "text": [
      "Epoch 1, Loss: 0.6167149291419151\n",
      "Epoch 2, Loss: 0.07918964239592909\n",
      "Epoch 3, Loss: 0.05648705574345053\n",
      "Epoch 4, Loss: 0.047488438355180226\n",
      "Epoch 5, Loss: 0.04254326928385071\n",
      "Epoch 6, Loss: 0.03749561089266003\n",
      "Epoch 7, Loss: 0.03135329439704603\n",
      "Epoch 8, Loss: 0.03173748074344545\n",
      "Epoch 9, Loss: 0.026342268526204974\n",
      "Epoch 10, Loss: 0.02312812968043967\n"
     ]
    }
   ],
   "source": [
    "for epoch in range(10):  # train for ten epoch\n",
    "    running_loss = 0.0\n",
    "    for images, labels in train_loader:\n",
    "        optimizer.zero_grad()\n",
    "        outputs = model(images)\n",
    "        loss = criterion(outputs, labels)\n",
    "        loss.backward()\n",
    "        optimizer.step()\n",
    "        running_loss += loss.item()\n",
    "    print(f\"Epoch {epoch+1}, Loss: {running_loss/len(train_loader)}\")"
   ]
  },
  {
   "cell_type": "code",
   "execution_count": 63,
   "id": "5d3f4124-99be-43eb-8bfa-34fdfa4a5fb5",
   "metadata": {},
   "outputs": [],
   "source": [
    "test_dataset = DigitDataset(test_data, transform=transform, has_labels=False)\n",
    "\n",
    "test_loader = DataLoader(test_dataset, batch_size=64, shuffle=False)\n",
    "\n",
    "predictions = []\n",
    "with torch.no_grad():\n",
    "    for images in test_loader:\n",
    "        outputs = model(images)\n",
    "        _, predicted = torch.max(outputs, 1)\n",
    "        predictions.extend(predicted.numpy())"
   ]
  },
  {
   "cell_type": "code",
   "execution_count": 69,
   "id": "76b0a38c-ce8c-48ef-b654-07bbc678dad2",
   "metadata": {},
   "outputs": [
    {
     "name": "stdout",
     "output_type": "stream",
     "text": [
      "Accuracy on first 100 samples: 99.00%\n"
     ]
    }
   ],
   "source": [
    "#  test out top 100 record from train data to see how its perform generally\n",
    "# 假设 train_data 是一个 DataFrame，包含训练样本和标签\n",
    "# 提取前 100 个样本和标签\n",
    "sample_data = train_data.iloc[:100]\n",
    "sample_images = sample_data.iloc[:, 1:].values.reshape(-1, 28, 28).astype(np.float32)\n",
    "sample_labels = sample_data.iloc[:, 0].values\n",
    "\n",
    "# 创建数据集和数据加载器\n",
    "sample_dataset = DigitDataset(sample_data, transform=transform, has_labels=True)\n",
    "sample_loader = DataLoader(sample_dataset, batch_size=10, shuffle=False)\n",
    "\n",
    "# 生成预测\n",
    "predictions = []\n",
    "with torch.no_grad():\n",
    "    for images, labels in sample_loader:\n",
    "        outputs = model(images)\n",
    "        _, predicted = torch.max(outputs, 1)\n",
    "        predictions.extend(predicted.numpy())\n",
    "\n",
    "# 计算准确率\n",
    "correct = sum(p == l for p, l in zip(predictions, sample_labels))\n",
    "accuracy = correct / len(sample_labels)\n",
    "print(f\"Accuracy on first 100 samples: {accuracy * 100:.2f}%\")"
   ]
  },
  {
   "cell_type": "code",
   "execution_count": 72,
   "id": "8f43337a-7dd1-47c1-be4e-dd38870f8e5e",
   "metadata": {},
   "outputs": [
    {
     "name": "stdout",
     "output_type": "stream",
     "text": [
      "Incorrect sample indices: [95]\n"
     ]
    },
    {
     "data": {
      "image/png": "[encoded data removed]",
      "text/plain": [
       "<Figure size 640x480 with 1 Axes>"
      ]
     },
     "metadata": {},
     "output_type": "display_data"
    }
   ],
   "source": [
    "#  check out error images\n",
    "incorrect_indices = [i for i, (p, l) in enumerate(zip(predictions, sample_labels)) if p != l]\n",
    "print(\"Incorrect sample indices:\", incorrect_indices)\n",
    "# 可视化错误样本\n",
    "for idx in incorrect_indices:\n",
    "    plt.imshow(sample_images[idx], cmap='gray')\n",
    "    plt.title(f\"True: {sample_labels[idx]}, Predicted: {predictions[idx]}\")\n",
    "    plt.show()"
   ]
  },
  {
   "cell_type": "code",
   "execution_count": null,
   "id": "98e13eef-3eb6-4be0-9917-4bb750001880",
   "metadata": {},
   "outputs": [],
   "source": [
    "submission = pd.DataFrame({'ImageId': np.arange(1, len(predictions) + 1), 'Label': predictions})\n",
    "submission.to_csv('submission.csv', index=False)"
   ]
  }
 ],
 "metadata": {
  "kernelspec": {
   "display_name": "Python 3 (ipykernel)",
   "language": "python",
   "name": "python3"
  },
  "language_info": {
   "codemirror_mode": {
    "name": "ipython",
    "version": 3
   },
   "file_extension": ".py",
   "mimetype": "text/x-python",
   "name": "python",
   "nbconvert_exporter": "python",
   "pygments_lexer": "ipython3",
   "version": "3.13.0"
  }
 },
 "nbformat": 4,
 "nbformat_minor": 5
}
